{
 "cells": [
  {
   "cell_type": "markdown",
   "id": "39d6b9c6-a58e-4c8e-a43c-8e5b30808d9d",
   "metadata": {},
   "source": [
    "# Crossmatching NASA Exoplanet Archive data with Gaia DR3 using Gaia DR2 IDs"
   ]
  },
  {
   "cell_type": "markdown",
   "id": "dc76003d-72bd-4fd2-b627-309c87d524aa",
   "metadata": {},
   "source": [
    "The Nasa Exoplanet Archive (NEA; https://exoplanetarchive.ipac.caltech.edu/) contains the most up to date information on exoplanet properties. We wish to crossmatch data in the NEA with the most recent data in the Gaia archive (https://gea.esac.esa.int/archive/), which as of 4/11/22 is DR3. The NEA contains Gaia IDs for the exoplanet host stars. However, as of 4/11/22, the NEA Gaia IDs are from Gaia DR2. Unfortunately, the Gaia IDs for the same stars are not neccessarily the same between different data releases. Therefore, we need to carefully crossmatch the Gaia DR2 IDs in the NEA with the correct Gaia DR3 stars.\n",
    "\n",
    "The https://gea.esac.esa.int/archive/documentation/GEDR3/Gaia_archive/chap_datamodel/sec_dm_auxiliary_tables/ssec_dm_dr2_neighbourhood.html"
   ]
  },
  {
   "cell_type": "markdown",
   "id": "f00311e3-53b6-4427-b573-88d6bf047ca3",
   "metadata": {},
   "source": [
    "# Setup "
   ]
  },
  {
   "cell_type": "markdown",
   "id": "a63e0d89-7cf3-434f-9130-2b07f8e94b6a",
   "metadata": {},
   "source": [
    "## Importing modules"
   ]
  },
  {
   "cell_type": "code",
   "execution_count": 1,
   "id": "df3fedc2-1dad-49a9-8ab2-fd1f38f9336c",
   "metadata": {},
   "outputs": [],
   "source": [
    "import pandas as pd\n",
    "import re\n",
    "from astroquery.gaia import Gaia"
   ]
  },
  {
   "cell_type": "markdown",
   "id": "8e1eeb92-fff1-4fa2-bbc4-5e658c3409cc",
   "metadata": {},
   "source": [
    "## Downloading and reading in NEA data"
   ]
  },
  {
   "cell_type": "markdown",
   "id": "74612a83-5102-49af-9476-55e635c31697",
   "metadata": {},
   "source": [
    "We use the most up to date data from the NEA compositve planetary data: https://exoplanetarchive.ipac.caltech.edu/cgi-bin/TblView/nph-tblView?app=ExoTbls&config=PSCompPars. We download all the columns from the most recent data from the NEA compositve planetary catalogue as a csv, which produces a file with a name like, PSCompPars_2022.10.29_03.02.41.csv, where the numbers correspond to the date and time the data were downloaded. Something in the header of the csv file meant pandas could not read the data properly, so the quick work around is to remove all the extraneous header info (all rows starting with #)."
   ]
  },
  {
   "cell_type": "code",
   "execution_count": 3,
   "id": "37e1c773-cdcd-4906-8572-c22511b745bb",
   "metadata": {},
   "outputs": [],
   "source": [
    "# Read in the data using pandas\n",
    "# exoplanets = pd.read_csv(\"PSCompPars_2022.10.29_03.02.41.csv\", skiprows=315, low_memory=False)  # skipping the first 315 rows which are header information\n",
    "# exoplanets = pd.read_csv(\"PSCompPars_2022.10.29_03.02.41.csv\", skiprows=315)  # skipping the first 315 rows which are header information\n",
    "# exoplanets = pd.read_csv(\"PSCompPars_2022.10.29_03.02.41.csv\", skiprows=315)  # skipping the first 315 rows which are header information\n",
    "# exoplanets = pd.read_csv(\"PSCompPars_2022.11.04_06.38.57.csv\", skiprows=94)\n",
    "# exoplanets = pd.read_csv(\"PSCompPars_2022.11.04_06.38.57_nohead.csv\")\n",
    "exoplanets = pd.read_csv(\"PSCompPars_2022.11.04_06.46.09.csv\")"
   ]
  },
  {
   "cell_type": "code",
   "execution_count": 4,
   "id": "a35d73ff-d032-4b33-a27c-e1ef7f123057",
   "metadata": {},
   "outputs": [],
   "source": [
    "# exoplanets"
   ]
  },
  {
   "cell_type": "code",
   "execution_count": 5,
   "id": "ce95f30b-c6e6-48df-a5b0-3c7fc8060b08",
   "metadata": {},
   "outputs": [],
   "source": [
    "gaia_id_number = pd.DataFrame(exoplanets['gaia_id'].str.split(expand=True)[2])"
   ]
  },
  {
   "cell_type": "code",
   "execution_count": 6,
   "id": "c2be6b14-abd0-4b77-8b19-0d9ee415d96a",
   "metadata": {},
   "outputs": [],
   "source": [
    "gaia_id_number.columns=['gaia_id_number']"
   ]
  },
  {
   "cell_type": "code",
   "execution_count": 7,
   "id": "80e392ce-3612-4048-8baa-363e0673d0e8",
   "metadata": {},
   "outputs": [
    {
     "data": {
      "text/html": [
       "<div>\n",
       "<style scoped>\n",
       "    .dataframe tbody tr th:only-of-type {\n",
       "        vertical-align: middle;\n",
       "    }\n",
       "\n",
       "    .dataframe tbody tr th {\n",
       "        vertical-align: top;\n",
       "    }\n",
       "\n",
       "    .dataframe thead th {\n",
       "        text-align: right;\n",
       "    }\n",
       "</style>\n",
       "<table border=\"1\" class=\"dataframe\">\n",
       "  <thead>\n",
       "    <tr style=\"text-align: right;\">\n",
       "      <th></th>\n",
       "      <th>gaia_id_number</th>\n",
       "    </tr>\n",
       "  </thead>\n",
       "  <tbody>\n",
       "    <tr>\n",
       "      <th>0</th>\n",
       "      <td>3946945413106333696</td>\n",
       "    </tr>\n",
       "    <tr>\n",
       "      <th>1</th>\n",
       "      <td>1696798367260229376</td>\n",
       "    </tr>\n",
       "    <tr>\n",
       "      <th>2</th>\n",
       "      <td>1920113512486282240</td>\n",
       "    </tr>\n",
       "    <tr>\n",
       "      <th>3</th>\n",
       "      <td>1385293808145621504</td>\n",
       "    </tr>\n",
       "    <tr>\n",
       "      <th>4</th>\n",
       "      <td>2135550755683407232</td>\n",
       "    </tr>\n",
       "    <tr>\n",
       "      <th>...</th>\n",
       "      <td>...</td>\n",
       "    </tr>\n",
       "    <tr>\n",
       "      <th>5192</th>\n",
       "      <td>348020448377061376</td>\n",
       "    </tr>\n",
       "    <tr>\n",
       "      <th>5193</th>\n",
       "      <td>348020448377061376</td>\n",
       "    </tr>\n",
       "    <tr>\n",
       "      <th>5194</th>\n",
       "      <td>348020448377061376</td>\n",
       "    </tr>\n",
       "    <tr>\n",
       "      <th>5195</th>\n",
       "      <td>3794167001116433152</td>\n",
       "    </tr>\n",
       "    <tr>\n",
       "      <th>5196</th>\n",
       "      <td>4298361114750843904</td>\n",
       "    </tr>\n",
       "  </tbody>\n",
       "</table>\n",
       "<p>5197 rows × 1 columns</p>\n",
       "</div>"
      ],
      "text/plain": [
       "           gaia_id_number\n",
       "0     3946945413106333696\n",
       "1     1696798367260229376\n",
       "2     1920113512486282240\n",
       "3     1385293808145621504\n",
       "4     2135550755683407232\n",
       "...                   ...\n",
       "5192   348020448377061376\n",
       "5193   348020448377061376\n",
       "5194   348020448377061376\n",
       "5195  3794167001116433152\n",
       "5196  4298361114750843904\n",
       "\n",
       "[5197 rows x 1 columns]"
      ]
     },
     "execution_count": 7,
     "metadata": {},
     "output_type": "execute_result"
    }
   ],
   "source": [
    "gaia_id_number"
   ]
  },
  {
   "cell_type": "code",
   "execution_count": 8,
   "id": "9a9c8600-37d6-4a21-90be-91c8d257b276",
   "metadata": {},
   "outputs": [],
   "source": [
    "#gaia_id_number.to_csv(\"PSCompPars_2022.11.04_06.46.09_gaia_id_drop_number_only.csv\", index=False)"
   ]
  },
  {
   "cell_type": "code",
   "execution_count": 9,
   "id": "18d7381f-3b85-4609-803d-9bfdb771a79e",
   "metadata": {},
   "outputs": [],
   "source": [
    "# Dropping rows with no Gaia ids as this will just complicate the analysis.\n",
    "gaia_id_number.dropna().to_csv(\"PSCompPars_2022.11.04_06.46.09_gaia_id_number.csv\", index=False)"
   ]
  },
  {
   "cell_type": "code",
   "execution_count": 10,
   "id": "bfe95528-d8f3-4383-8eb9-a5dcf1e05615",
   "metadata": {},
   "outputs": [],
   "source": [
    "# exoplanets['gaia_id'].to_csv(\"gaia_full_name_test.csv\", index=False)"
   ]
  },
  {
   "cell_type": "markdown",
   "id": "40120adc-d45c-4da4-aaaa-34eb20f0317b",
   "metadata": {},
   "source": [
    "# Login to Gaia Archive"
   ]
  },
  {
   "cell_type": "code",
   "execution_count": 11,
   "id": "e21836de-fef1-4307-9982-f756480ec584",
   "metadata": {
    "tags": []
   },
   "outputs": [],
   "source": [
    "#### We can log onto the Gaia archive using the following formats:\n",
    "#### Gaia.login_gui() - will display window to provide a username and password\n",
    "#### Gaia.login() - a prompt will ask the user for name and password\n",
    "#### Gaia.login(user=[username], password=[password]) - just type the username and password in the given fields\n",
    "#### Gaia.login(credentials_file=[filename] - A path to the file that contains username and password. The username and password must be in different lines!"
   ]
  },
  {
   "cell_type": "code",
   "execution_count": 12,
   "id": "aacae472-92af-4cef-94dc-dd334ef8f2fc",
   "metadata": {},
   "outputs": [
    {
     "name": "stdout",
     "output_type": "stream",
     "text": [
      "INFO: Login to gaia TAP server [astroquery.gaia.core]\n"
     ]
    },
    {
     "name": "stdin",
     "output_type": "stream",
     "text": [
      "User:  slongmor\n",
      "Password:  ·········\n"
     ]
    },
    {
     "name": "stdout",
     "output_type": "stream",
     "text": [
      "OK\n",
      "INFO: Login to gaia data server [astroquery.gaia.core]\n",
      "OK\n"
     ]
    }
   ],
   "source": [
    "Gaia.login()"
   ]
  },
  {
   "cell_type": "markdown",
   "id": "72938444-cf92-4ee5-9d3f-d3a2ec1957f5",
   "metadata": {},
   "source": [
    "# Upload the Gaia DR2 ids to the Gaia archive"
   ]
  },
  {
   "cell_type": "markdown",
   "id": "e766fd07-6edf-4f88-8e18-8145a51785ad",
   "metadata": {},
   "source": [
    "Now we need to upload the csv file we created above with Gaia DR2 ID's from the NASA Exoplanets Archive. This can be done on the Gaia archive website using the GUI. Cannot upload the same table twice unless we change the name as they are unique."
   ]
  },
  {
   "cell_type": "code",
   "execution_count": 14,
   "id": "2104578c-1ad5-4124-b512-5e889bb4b904",
   "metadata": {},
   "outputs": [
    {
     "name": "stdout",
     "output_type": "stream",
     "text": [
      "Sending file: PSCompPars_2022.11.04_06.46.09_gaia_id_number.csv\n",
      "Uploaded table 'gaia_dr2_NEA_names'.\n"
     ]
    }
   ],
   "source": [
    "# Gaia.upload_table(upload_resource=\"PSCompPars_2022.11.04_06.46.09_gaia_id_number_dropna.csv\", table_name=\"PSCompPars_2022.11.04_06.46.09_gaia_id_number_dropna.csv\", format=\"CSV\")\n",
    "# Gaia.upload_table(upload_resource=\"PSCompPars_2022.11.04_06.46.09_gaia_id_number.csv\", table_name=\"PSCompPars_2022.11.04_06.46.09_gaia_id_number.csv\", format=\"CSV\")\n",
    "Gaia.upload_table(upload_resource=\"PSCompPars_2022.11.04_06.46.09_gaia_id_number.csv\", table_name=\"gaia_dr2_NEA_names\", format=\"CSV\")"
   ]
  },
  {
   "cell_type": "markdown",
   "id": "adf852ec-a6fc-4f89-9d71-f6a3fedb5c03",
   "metadata": {},
   "source": [
    "# Submit crossmatch query"
   ]
  },
  {
   "cell_type": "markdown",
   "id": "0f96f8c3-14e5-4e5d-b35f-b91f7166a8e2",
   "metadata": {},
   "source": [
    "We need to provide a gaia table name to query as well as the username that will be used to load the uploaded table.\n",
    "Set a name for the file to which queried data will be saved."
   ]
  },
  {
   "cell_type": "code",
   "execution_count": 15,
   "id": "66261f6a-49bc-427a-a1b1-7351fc719486",
   "metadata": {},
   "outputs": [],
   "source": [
    "table = \"gaiadr3.dr2_neighbourhood\"\n",
    "username = \"slongmor\"\n",
    "filename = \"gaiadr3.dr2_neighbourhood.csv\"\n",
    "# mytable = \"PSCompPars_2022.11.04_06.46.09_gaia_id_number.csv\"\n",
    "mytable = \"gaia_dr2_NEA_names\""
   ]
  },
  {
   "cell_type": "code",
   "execution_count": 16,
   "id": "2f4a11f5-7cba-4ffb-bd28-18eda479443c",
   "metadata": {},
   "outputs": [],
   "source": [
    "query = f\"\"\"\n",
    "SELECT dr2_names.*, both_names.*\n",
    "FROM user_{username}.{mytable} AS dr2_names\n",
    "JOIN {table} as both_names \n",
    "    ON both_names.dr2_source_id = dr2_names.gaia_source_id\n",
    "WHERE ABS(magnitude_difference) < 0.1\n",
    "\"\"\""
   ]
  },
  {
   "cell_type": "code",
   "execution_count": 17,
   "id": "87386596-13af-4f95-9e6e-3bfb6571f9a3",
   "metadata": {},
   "outputs": [
    {
     "name": "stdout",
     "output_type": "stream",
     "text": [
      "500 Error 500:\n",
      "null\n"
     ]
    },
    {
     "ename": "HTTPError",
     "evalue": "Error 500:\nnull",
     "output_type": "error",
     "traceback": [
      "\u001b[0;31m---------------------------------------------------------------------------\u001b[0m",
      "\u001b[0;31mHTTPError\u001b[0m                                 Traceback (most recent call last)",
      "Input \u001b[0;32mIn [17]\u001b[0m, in \u001b[0;36m<cell line: 1>\u001b[0;34m()\u001b[0m\n\u001b[0;32m----> 1\u001b[0m \u001b[43mGaia\u001b[49m\u001b[38;5;241;43m.\u001b[39;49m\u001b[43mlaunch_job_async\u001b[49m\u001b[43m(\u001b[49m\u001b[43mquery\u001b[49m\u001b[43m)\u001b[49m\u001b[38;5;241m.\u001b[39mget_results()\u001b[38;5;241m.\u001b[39mto_pandas()\u001b[38;5;241m.\u001b[39mto_csv(\u001b[38;5;124mf\u001b[39m\u001b[38;5;124m\"\u001b[39m\u001b[38;5;132;01m{\u001b[39;00mfilename\u001b[38;5;132;01m}\u001b[39;00m\u001b[38;5;124m\"\u001b[39m, index\u001b[38;5;241m=\u001b[39m\u001b[38;5;28;01mFalse\u001b[39;00m)\n",
      "File \u001b[0;32m~/miniforge3/envs/environment-shaping-exoplanets/lib/python3.9/site-packages/astroquery/gaia/core.py:903\u001b[0m, in \u001b[0;36mGaiaClass.launch_job_async\u001b[0;34m(self, query, name, output_file, output_format, verbose, dump_to_file, background, upload_resource, upload_table_name, autorun)\u001b[0m\n\u001b[1;32m    862\u001b[0m \u001b[38;5;28;01mdef\u001b[39;00m \u001b[38;5;21mlaunch_job_async\u001b[39m(\u001b[38;5;28mself\u001b[39m, query, name\u001b[38;5;241m=\u001b[39m\u001b[38;5;28;01mNone\u001b[39;00m, output_file\u001b[38;5;241m=\u001b[39m\u001b[38;5;28;01mNone\u001b[39;00m,\n\u001b[1;32m    863\u001b[0m                      output_format\u001b[38;5;241m=\u001b[39m\u001b[38;5;124m\"\u001b[39m\u001b[38;5;124mvotable\u001b[39m\u001b[38;5;124m\"\u001b[39m, verbose\u001b[38;5;241m=\u001b[39m\u001b[38;5;28;01mFalse\u001b[39;00m,\n\u001b[1;32m    864\u001b[0m                      dump_to_file\u001b[38;5;241m=\u001b[39m\u001b[38;5;28;01mFalse\u001b[39;00m, background\u001b[38;5;241m=\u001b[39m\u001b[38;5;28;01mFalse\u001b[39;00m,\n\u001b[1;32m    865\u001b[0m                      upload_resource\u001b[38;5;241m=\u001b[39m\u001b[38;5;28;01mNone\u001b[39;00m, upload_table_name\u001b[38;5;241m=\u001b[39m\u001b[38;5;28;01mNone\u001b[39;00m,\n\u001b[1;32m    866\u001b[0m                      autorun\u001b[38;5;241m=\u001b[39m\u001b[38;5;28;01mTrue\u001b[39;00m):\n\u001b[1;32m    867\u001b[0m     \u001b[38;5;124;03m\"\"\"Launches an asynchronous job\u001b[39;00m\n\u001b[1;32m    868\u001b[0m \n\u001b[1;32m    869\u001b[0m \u001b[38;5;124;03m    Parameters\u001b[39;00m\n\u001b[0;32m   (...)\u001b[0m\n\u001b[1;32m    901\u001b[0m \u001b[38;5;124;03m    A Job object\u001b[39;00m\n\u001b[1;32m    902\u001b[0m \u001b[38;5;124;03m    \"\"\"\u001b[39;00m\n\u001b[0;32m--> 903\u001b[0m     \u001b[38;5;28;01mreturn\u001b[39;00m \u001b[43mTapPlus\u001b[49m\u001b[38;5;241;43m.\u001b[39;49m\u001b[43mlaunch_job_async\u001b[49m\u001b[43m(\u001b[49m\u001b[38;5;28;43mself\u001b[39;49m\u001b[43m,\u001b[49m\u001b[43m \u001b[49m\u001b[43mquery\u001b[49m\u001b[38;5;241;43m=\u001b[39;49m\u001b[43mquery\u001b[49m\u001b[43m,\u001b[49m\n\u001b[1;32m    904\u001b[0m \u001b[43m                                    \u001b[49m\u001b[43mname\u001b[49m\u001b[38;5;241;43m=\u001b[39;49m\u001b[43mname\u001b[49m\u001b[43m,\u001b[49m\n\u001b[1;32m    905\u001b[0m \u001b[43m                                    \u001b[49m\u001b[43moutput_file\u001b[49m\u001b[38;5;241;43m=\u001b[39;49m\u001b[43moutput_file\u001b[49m\u001b[43m,\u001b[49m\n\u001b[1;32m    906\u001b[0m \u001b[43m                                    \u001b[49m\u001b[43moutput_format\u001b[49m\u001b[38;5;241;43m=\u001b[39;49m\u001b[43moutput_format\u001b[49m\u001b[43m,\u001b[49m\n\u001b[1;32m    907\u001b[0m \u001b[43m                                    \u001b[49m\u001b[43mverbose\u001b[49m\u001b[38;5;241;43m=\u001b[39;49m\u001b[43mverbose\u001b[49m\u001b[43m,\u001b[49m\n\u001b[1;32m    908\u001b[0m \u001b[43m                                    \u001b[49m\u001b[43mdump_to_file\u001b[49m\u001b[38;5;241;43m=\u001b[39;49m\u001b[43mdump_to_file\u001b[49m\u001b[43m,\u001b[49m\n\u001b[1;32m    909\u001b[0m \u001b[43m                                    \u001b[49m\u001b[43mbackground\u001b[49m\u001b[38;5;241;43m=\u001b[39;49m\u001b[43mbackground\u001b[49m\u001b[43m,\u001b[49m\n\u001b[1;32m    910\u001b[0m \u001b[43m                                    \u001b[49m\u001b[43mupload_resource\u001b[49m\u001b[38;5;241;43m=\u001b[39;49m\u001b[43mupload_resource\u001b[49m\u001b[43m,\u001b[49m\n\u001b[1;32m    911\u001b[0m \u001b[43m                                    \u001b[49m\u001b[43mupload_table_name\u001b[49m\u001b[38;5;241;43m=\u001b[39;49m\u001b[43mupload_table_name\u001b[49m\u001b[43m,\u001b[49m\n\u001b[1;32m    912\u001b[0m \u001b[43m                                    \u001b[49m\u001b[43mautorun\u001b[49m\u001b[38;5;241;43m=\u001b[39;49m\u001b[43mautorun\u001b[49m\u001b[43m)\u001b[49m\n",
      "File \u001b[0;32m~/miniforge3/envs/environment-shaping-exoplanets/lib/python3.9/site-packages/astroquery/utils/tap/core.py:459\u001b[0m, in \u001b[0;36mTap.launch_job_async\u001b[0;34m(self, query, name, output_file, output_format, verbose, dump_to_file, background, upload_resource, upload_table_name, autorun)\u001b[0m\n\u001b[1;32m    457\u001b[0m                 job\u001b[38;5;241m.\u001b[39msave_results(verbose)\n\u001b[1;32m    458\u001b[0m             \u001b[38;5;28;01melse\u001b[39;00m:\n\u001b[0;32m--> 459\u001b[0m                 \u001b[43mjob\u001b[49m\u001b[38;5;241;43m.\u001b[39;49m\u001b[43mget_results\u001b[49m\u001b[43m(\u001b[49m\u001b[43m)\u001b[49m\n\u001b[1;32m    460\u001b[0m                 log\u001b[38;5;241m.\u001b[39minfo(\u001b[38;5;124m\"\u001b[39m\u001b[38;5;124mQuery finished.\u001b[39m\u001b[38;5;124m\"\u001b[39m)\n\u001b[1;32m    461\u001b[0m \u001b[38;5;28;01mreturn\u001b[39;00m job\n",
      "File \u001b[0;32m~/miniforge3/envs/environment-shaping-exoplanets/lib/python3.9/site-packages/astroquery/utils/tap/model/job.py:246\u001b[0m, in \u001b[0;36mJob.get_results\u001b[0;34m(self)\u001b[0m\n\u001b[1;32m    243\u001b[0m     \u001b[38;5;28;01mreturn\u001b[39;00m \u001b[38;5;28;01mNone\u001b[39;00m\n\u001b[1;32m    244\u001b[0m \u001b[38;5;28;01melse\u001b[39;00m:\n\u001b[1;32m    245\u001b[0m     \u001b[38;5;66;03m# async: result is in the server once the job is finished\u001b[39;00m\n\u001b[0;32m--> 246\u001b[0m     \u001b[38;5;28;43mself\u001b[39;49m\u001b[38;5;241;43m.\u001b[39;49m\u001b[43m__load_async_job_results\u001b[49m\u001b[43m(\u001b[49m\u001b[43m)\u001b[49m\n\u001b[1;32m    247\u001b[0m     \u001b[38;5;28;01mreturn\u001b[39;00m \u001b[38;5;28mself\u001b[39m\u001b[38;5;241m.\u001b[39mresults\n",
      "File \u001b[0;32m~/miniforge3/envs/environment-shaping-exoplanets/lib/python3.9/site-packages/astroquery/utils/tap/model/job.py:352\u001b[0m, in \u001b[0;36mJob.__load_async_job_results\u001b[0;34m(self, debug)\u001b[0m\n\u001b[1;32m    348\u001b[0m     \u001b[38;5;28mprint\u001b[39m(resultsResponse\u001b[38;5;241m.\u001b[39mgetheaders())\n\u001b[1;32m    350\u001b[0m resultsResponse \u001b[38;5;241m=\u001b[39m \u001b[38;5;28mself\u001b[39m\u001b[38;5;241m.\u001b[39m__handle_redirect_if_required(resultsResponse,\n\u001b[1;32m    351\u001b[0m                                                      debug)\n\u001b[0;32m--> 352\u001b[0m isError \u001b[38;5;241m=\u001b[39m \u001b[38;5;28;43mself\u001b[39;49m\u001b[38;5;241;43m.\u001b[39;49m\u001b[43mconnHandler\u001b[49m\u001b[38;5;241;43m.\u001b[39;49m\u001b[43m\\\u001b[49m\n\u001b[1;32m    353\u001b[0m \u001b[43m    \u001b[49m\u001b[43mcheck_launch_response_status\u001b[49m\u001b[43m(\u001b[49m\u001b[43mresultsResponse\u001b[49m\u001b[43m,\u001b[49m\n\u001b[1;32m    354\u001b[0m \u001b[43m                                 \u001b[49m\u001b[43mdebug\u001b[49m\u001b[43m,\u001b[49m\n\u001b[1;32m    355\u001b[0m \u001b[43m                                 \u001b[49m\u001b[38;5;241;43m200\u001b[39;49m\u001b[43m)\u001b[49m\n\u001b[1;32m    356\u001b[0m \u001b[38;5;28mself\u001b[39m\u001b[38;5;241m.\u001b[39m_phase \u001b[38;5;241m=\u001b[39m phase\n\u001b[1;32m    357\u001b[0m \u001b[38;5;28;01mif\u001b[39;00m phase \u001b[38;5;241m==\u001b[39m \u001b[38;5;124m'\u001b[39m\u001b[38;5;124mERROR\u001b[39m\u001b[38;5;124m'\u001b[39m:\n",
      "File \u001b[0;32m~/miniforge3/envs/environment-shaping-exoplanets/lib/python3.9/site-packages/astroquery/utils/tap/conn/tapconn.py:683\u001b[0m, in \u001b[0;36mTapConn.check_launch_response_status\u001b[0;34m(self, response, debug, expected_response_status, raise_exception)\u001b[0m\n\u001b[1;32m    681\u001b[0m     errMsg \u001b[38;5;241m=\u001b[39m taputils\u001b[38;5;241m.\u001b[39mget_http_response_error(response)\n\u001b[1;32m    682\u001b[0m     \u001b[38;5;28mprint\u001b[39m(response\u001b[38;5;241m.\u001b[39mstatus, errMsg)\n\u001b[0;32m--> 683\u001b[0m     \u001b[38;5;28;01mraise\u001b[39;00m requests\u001b[38;5;241m.\u001b[39mexceptions\u001b[38;5;241m.\u001b[39mHTTPError(errMsg)\n\u001b[1;32m    684\u001b[0m \u001b[38;5;28;01melse\u001b[39;00m:\n\u001b[1;32m    685\u001b[0m     \u001b[38;5;28;01mreturn\u001b[39;00m isError\n",
      "\u001b[0;31mHTTPError\u001b[0m: Error 500:\nnull"
     ]
    }
   ],
   "source": [
    "Gaia.launch_job_async(query).get_results().to_pandas().to_csv(f\"{filename}\", index=False)"
   ]
  },
  {
   "cell_type": "code",
   "execution_count": null,
   "id": "a0fad4a7-7253-4862-a3a2-d54ce6a0aaf7",
   "metadata": {},
   "outputs": [],
   "source": []
  }
 ],
 "metadata": {
  "kernelspec": {
   "display_name": "Python 3 (ipykernel)",
   "language": "python",
   "name": "python3"
  },
  "language_info": {
   "codemirror_mode": {
    "name": "ipython",
    "version": 3
   },
   "file_extension": ".py",
   "mimetype": "text/x-python",
   "name": "python",
   "nbconvert_exporter": "python",
   "pygments_lexer": "ipython3",
   "version": "3.9.6"
  },
  "toc-autonumbering": true
 },
 "nbformat": 4,
 "nbformat_minor": 5
}
