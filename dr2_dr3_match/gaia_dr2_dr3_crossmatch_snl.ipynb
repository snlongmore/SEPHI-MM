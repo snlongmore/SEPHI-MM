{
 "cells": [
  {
   "cell_type": "markdown",
   "id": "39d6b9c6-a58e-4c8e-a43c-8e5b30808d9d",
   "metadata": {},
   "source": [
    "# Crossmatching NASA Exoplanet Archive data with Gaia DR3 using Gaia DR2 IDs"
   ]
  },
  {
   "cell_type": "markdown",
   "id": "dc76003d-72bd-4fd2-b627-309c87d524aa",
   "metadata": {},
   "source": [
    "The Nasa Exoplanet Archive (NEA; https://exoplanetarchive.ipac.caltech.edu/) contains the most up to date information on exoplanet properties. We wish to crossmatch data in the NEA with the most recent data in the Gaia archive (https://gea.esac.esa.int/archive/), which as of 4/11/22 is DR3. The NEA contains Gaia IDs for the exoplanet host stars. However, as of 4/11/22, the NEA Gaia IDs are from Gaia DR2. Unfortunately, the Gaia IDs for the same stars are not neccessarily the same between different data releases. Therefore, we need to carefully crossmatch the Gaia DR2 IDs in the NEA with the correct Gaia DR3 stars.\n",
    "\n",
    "The Gaia archive has a table called DR2_neighbourhood for crossmatching Gaia DR2 stars with DR3 stars, https://gea.esac.esa.int/archive/documentation/GEDR3/Gaia_archive/chap_datamodel/sec_dm_auxiliary_tables/ssec_dm_dr2_neighbourhood.html. We want to use this table to assign Gaia DR3 IDs to all of the exoplanet host stars in the NEA. \n",
    "\n",
    "The goal of this script is to very carefully check this crossmatching to make sure that there are no problems, for example, non-unique matches between DR2 and DR3."
   ]
  },
  {
   "cell_type": "markdown",
   "id": "f00311e3-53b6-4427-b573-88d6bf047ca3",
   "metadata": {},
   "source": [
    "# Setup "
   ]
  },
  {
   "cell_type": "markdown",
   "id": "a63e0d89-7cf3-434f-9130-2b07f8e94b6a",
   "metadata": {},
   "source": [
    "## Importing modules"
   ]
  },
  {
   "cell_type": "code",
   "execution_count": 1,
   "id": "df3fedc2-1dad-49a9-8ab2-fd1f38f9336c",
   "metadata": {},
   "outputs": [],
   "source": [
    "import pandas as pd\n",
    "import re\n",
    "from astroquery.gaia import Gaia"
   ]
  },
  {
   "cell_type": "markdown",
   "id": "8e1eeb92-fff1-4fa2-bbc4-5e658c3409cc",
   "metadata": {},
   "source": [
    "## Downloading and reading in NEA data"
   ]
  },
  {
   "cell_type": "markdown",
   "id": "74612a83-5102-49af-9476-55e635c31697",
   "metadata": {},
   "source": [
    "We use the most up to date data from the NEA compositve planetary data: https://exoplanetarchive.ipac.caltech.edu/cgi-bin/TblView/nph-tblView?app=ExoTbls&config=PSCompPars. We download all the columns from the most recent data from the NEA compositve planetary catalogue as a csv, which produces a file with a name like, PSCompPars_2022.10.29_03.02.41.csv, where the numbers correspond to the date and time the data were downloaded. Something in the header of the csv file meant pandas could not read the data properly, so the quick work around is to remove all the extraneous header info (all rows starting with #)."
   ]
  },
  {
   "cell_type": "code",
   "execution_count": 2,
   "id": "37e1c773-cdcd-4906-8572-c22511b745bb",
   "metadata": {},
   "outputs": [],
   "source": [
    "# Read in the data using pandas\n",
    "exoplanets = pd.read_csv(\"PSCompPars_2022.11.04_06.46.09.csv\") # all extraneous header info (lines @beginning of file starting with #) removed so no need to skiprows\n",
    "# exoplanets"
   ]
  },
  {
   "cell_type": "markdown",
   "id": "c099e85c-a7ca-4254-958e-60f717642f25",
   "metadata": {},
   "source": [
    "## Extracting Gaia DR2 ID number"
   ]
  },
  {
   "cell_type": "markdown",
   "id": "74755138-b0a0-4e73-94b0-53ad63dcf000",
   "metadata": {},
   "source": [
    "The variable containing the Gaia DR2 ID number in the NEA file, 'gaia_id', is a string with the following format: 'Gaia DR2 NNNNNN...'. The integer 'NN..NN' is the unique Gaia DR2 ID that we want to extract."
   ]
  },
  {
   "cell_type": "code",
   "execution_count": 3,
   "id": "ce95f30b-c6e6-48df-a5b0-3c7fc8060b08",
   "metadata": {},
   "outputs": [
    {
     "data": {
      "text/html": [
       "<div>\n",
       "<style scoped>\n",
       "    .dataframe tbody tr th:only-of-type {\n",
       "        vertical-align: middle;\n",
       "    }\n",
       "\n",
       "    .dataframe tbody tr th {\n",
       "        vertical-align: top;\n",
       "    }\n",
       "\n",
       "    .dataframe thead th {\n",
       "        text-align: right;\n",
       "    }\n",
       "</style>\n",
       "<table border=\"1\" class=\"dataframe\">\n",
       "  <thead>\n",
       "    <tr style=\"text-align: right;\">\n",
       "      <th></th>\n",
       "      <th>gaia_id_number</th>\n",
       "    </tr>\n",
       "  </thead>\n",
       "  <tbody>\n",
       "    <tr>\n",
       "      <th>0</th>\n",
       "      <td>3946945413106333696</td>\n",
       "    </tr>\n",
       "    <tr>\n",
       "      <th>1</th>\n",
       "      <td>1696798367260229376</td>\n",
       "    </tr>\n",
       "    <tr>\n",
       "      <th>2</th>\n",
       "      <td>1920113512486282240</td>\n",
       "    </tr>\n",
       "    <tr>\n",
       "      <th>3</th>\n",
       "      <td>1385293808145621504</td>\n",
       "    </tr>\n",
       "    <tr>\n",
       "      <th>4</th>\n",
       "      <td>2135550755683407232</td>\n",
       "    </tr>\n",
       "    <tr>\n",
       "      <th>...</th>\n",
       "      <td>...</td>\n",
       "    </tr>\n",
       "    <tr>\n",
       "      <th>5192</th>\n",
       "      <td>348020448377061376</td>\n",
       "    </tr>\n",
       "    <tr>\n",
       "      <th>5193</th>\n",
       "      <td>348020448377061376</td>\n",
       "    </tr>\n",
       "    <tr>\n",
       "      <th>5194</th>\n",
       "      <td>348020448377061376</td>\n",
       "    </tr>\n",
       "    <tr>\n",
       "      <th>5195</th>\n",
       "      <td>3794167001116433152</td>\n",
       "    </tr>\n",
       "    <tr>\n",
       "      <th>5196</th>\n",
       "      <td>4298361114750843904</td>\n",
       "    </tr>\n",
       "  </tbody>\n",
       "</table>\n",
       "<p>5197 rows × 1 columns</p>\n",
       "</div>"
      ],
      "text/plain": [
       "           gaia_id_number\n",
       "0     3946945413106333696\n",
       "1     1696798367260229376\n",
       "2     1920113512486282240\n",
       "3     1385293808145621504\n",
       "4     2135550755683407232\n",
       "...                   ...\n",
       "5192   348020448377061376\n",
       "5193   348020448377061376\n",
       "5194   348020448377061376\n",
       "5195  3794167001116433152\n",
       "5196  4298361114750843904\n",
       "\n",
       "[5197 rows x 1 columns]"
      ]
     },
     "execution_count": 3,
     "metadata": {},
     "output_type": "execute_result"
    }
   ],
   "source": [
    "gaia_id_number = pd.DataFrame(exoplanets['gaia_id'].str.split(expand=True)[2]) # Extracting Gaia ID by splitting the string into components and selecting the final part\n",
    "gaia_id_number.columns=['gaia_id_number']                                      # Giving the newly created Series a column name\n",
    "gaia_id_number"
   ]
  },
  {
   "cell_type": "markdown",
   "id": "13ed6bce-045d-4b9e-820b-2d92cef901a9",
   "metadata": {},
   "source": [
    "## Removing rows with no Gaia DR2 IDs"
   ]
  },
  {
   "cell_type": "markdown",
   "id": "d6cd482d-537b-4c48-b8bc-c5490dd4b9d6",
   "metadata": {},
   "source": [
    "For some reason, there are a small number of exoplanet host stars in the NEA which do not have a Gaia DR2 ID. Further work is needed to determine why this is the case, and ideally, to manually assign these exoplanet host stars a Gaia DR2 ID. For the purposes of testing the DR2/DR3 crossmatching, we make the decision to drop these exoplanet host stars without Gaia DR2 IDs."
   ]
  },
  {
   "cell_type": "code",
   "execution_count": 4,
   "id": "f82ec330-29e8-4466-922a-a2ed49c9d6de",
   "metadata": {},
   "outputs": [
    {
     "data": {
      "text/plain": [
       "gaia_id_number    202\n",
       "dtype: int64"
      ]
     },
     "execution_count": 4,
     "metadata": {},
     "output_type": "execute_result"
    }
   ],
   "source": [
    "# Determining the number of exoplanet host stars with no Gaia DR2 IDs\n",
    "gaia_id_number.isnull().sum()    # As of 4/11/22 there are 202 out of 5197 entries in the composite NEA with no Gaia DR IDs"
   ]
  },
  {
   "cell_type": "code",
   "execution_count": 5,
   "id": "18d7381f-3b85-4609-803d-9bfdb771a79e",
   "metadata": {},
   "outputs": [
    {
     "data": {
      "text/html": [
       "<div>\n",
       "<style scoped>\n",
       "    .dataframe tbody tr th:only-of-type {\n",
       "        vertical-align: middle;\n",
       "    }\n",
       "\n",
       "    .dataframe tbody tr th {\n",
       "        vertical-align: top;\n",
       "    }\n",
       "\n",
       "    .dataframe thead th {\n",
       "        text-align: right;\n",
       "    }\n",
       "</style>\n",
       "<table border=\"1\" class=\"dataframe\">\n",
       "  <thead>\n",
       "    <tr style=\"text-align: right;\">\n",
       "      <th></th>\n",
       "      <th>gaia_id_number</th>\n",
       "    </tr>\n",
       "  </thead>\n",
       "  <tbody>\n",
       "    <tr>\n",
       "      <th>0</th>\n",
       "      <td>3946945413106333696</td>\n",
       "    </tr>\n",
       "    <tr>\n",
       "      <th>1</th>\n",
       "      <td>1696798367260229376</td>\n",
       "    </tr>\n",
       "    <tr>\n",
       "      <th>2</th>\n",
       "      <td>1920113512486282240</td>\n",
       "    </tr>\n",
       "    <tr>\n",
       "      <th>3</th>\n",
       "      <td>1385293808145621504</td>\n",
       "    </tr>\n",
       "    <tr>\n",
       "      <th>4</th>\n",
       "      <td>2135550755683407232</td>\n",
       "    </tr>\n",
       "    <tr>\n",
       "      <th>...</th>\n",
       "      <td>...</td>\n",
       "    </tr>\n",
       "    <tr>\n",
       "      <th>5192</th>\n",
       "      <td>348020448377061376</td>\n",
       "    </tr>\n",
       "    <tr>\n",
       "      <th>5193</th>\n",
       "      <td>348020448377061376</td>\n",
       "    </tr>\n",
       "    <tr>\n",
       "      <th>5194</th>\n",
       "      <td>348020448377061376</td>\n",
       "    </tr>\n",
       "    <tr>\n",
       "      <th>5195</th>\n",
       "      <td>3794167001116433152</td>\n",
       "    </tr>\n",
       "    <tr>\n",
       "      <th>5196</th>\n",
       "      <td>4298361114750843904</td>\n",
       "    </tr>\n",
       "  </tbody>\n",
       "</table>\n",
       "<p>4995 rows × 1 columns</p>\n",
       "</div>"
      ],
      "text/plain": [
       "           gaia_id_number\n",
       "0     3946945413106333696\n",
       "1     1696798367260229376\n",
       "2     1920113512486282240\n",
       "3     1385293808145621504\n",
       "4     2135550755683407232\n",
       "...                   ...\n",
       "5192   348020448377061376\n",
       "5193   348020448377061376\n",
       "5194   348020448377061376\n",
       "5195  3794167001116433152\n",
       "5196  4298361114750843904\n",
       "\n",
       "[4995 rows x 1 columns]"
      ]
     },
     "execution_count": 5,
     "metadata": {},
     "output_type": "execute_result"
    }
   ],
   "source": [
    "# Dropping rows with no Gaia DR2 IDs and outputting as a new CSV file\n",
    "# gaia_id_number.dropna().to_csv(\"PSCompPars_2022.11.04_06.46.09_gaia_id_number.csv\", index=False)\n",
    "gaia_id_number_dropna = gaia_id_number.dropna()\n",
    "gaia_id_number_dropna"
   ]
  },
  {
   "cell_type": "markdown",
   "id": "6d2f0e7c-e8c2-4a51-a8dd-183d7d7fd272",
   "metadata": {},
   "source": [
    "## Removing duplicate exoplanet host stars"
   ]
  },
  {
   "cell_type": "markdown",
   "id": "8a876c39-558a-4221-9dca-132dc44f9caf",
   "metadata": {},
   "source": [
    "Each row of the NEA table contains information about a single exoplanet. For systems with multiple planets around a star, this will lead to duplicates of the Gaia ID in different rows. We only need to match the exoplanet host star between Gaia DR2 and DR3 once, so we drop duplicates of the Gaia DR2 ID."
   ]
  },
  {
   "cell_type": "code",
   "execution_count": 6,
   "id": "8b712cc2-1994-4f88-ba05-842584083aac",
   "metadata": {},
   "outputs": [],
   "source": [
    "gaia_id_number_dropna_unique = gaia_id_number_dropna.drop_duplicates()"
   ]
  },
  {
   "cell_type": "code",
   "execution_count": 8,
   "id": "c590877a-260b-4962-8c14-340cd9ce0828",
   "metadata": {},
   "outputs": [
    {
     "data": {
      "text/html": [
       "<div>\n",
       "<style scoped>\n",
       "    .dataframe tbody tr th:only-of-type {\n",
       "        vertical-align: middle;\n",
       "    }\n",
       "\n",
       "    .dataframe tbody tr th {\n",
       "        vertical-align: top;\n",
       "    }\n",
       "\n",
       "    .dataframe thead th {\n",
       "        text-align: right;\n",
       "    }\n",
       "</style>\n",
       "<table border=\"1\" class=\"dataframe\">\n",
       "  <thead>\n",
       "    <tr style=\"text-align: right;\">\n",
       "      <th></th>\n",
       "      <th>gaia_id_number</th>\n",
       "    </tr>\n",
       "  </thead>\n",
       "  <tbody>\n",
       "    <tr>\n",
       "      <th>0</th>\n",
       "      <td>3946945413106333696</td>\n",
       "    </tr>\n",
       "    <tr>\n",
       "      <th>1</th>\n",
       "      <td>1696798367260229376</td>\n",
       "    </tr>\n",
       "    <tr>\n",
       "      <th>2</th>\n",
       "      <td>1920113512486282240</td>\n",
       "    </tr>\n",
       "    <tr>\n",
       "      <th>3</th>\n",
       "      <td>1385293808145621504</td>\n",
       "    </tr>\n",
       "    <tr>\n",
       "      <th>4</th>\n",
       "      <td>2135550755683407232</td>\n",
       "    </tr>\n",
       "    <tr>\n",
       "      <th>...</th>\n",
       "      <td>...</td>\n",
       "    </tr>\n",
       "    <tr>\n",
       "      <th>5187</th>\n",
       "      <td>2452378776434276992</td>\n",
       "    </tr>\n",
       "    <tr>\n",
       "      <th>5191</th>\n",
       "      <td>886479673643096448</td>\n",
       "    </tr>\n",
       "    <tr>\n",
       "      <th>5192</th>\n",
       "      <td>348020448377061376</td>\n",
       "    </tr>\n",
       "    <tr>\n",
       "      <th>5195</th>\n",
       "      <td>3794167001116433152</td>\n",
       "    </tr>\n",
       "    <tr>\n",
       "      <th>5196</th>\n",
       "      <td>4298361114750843904</td>\n",
       "    </tr>\n",
       "  </tbody>\n",
       "</table>\n",
       "<p>3703 rows × 1 columns</p>\n",
       "</div>"
      ],
      "text/plain": [
       "           gaia_id_number\n",
       "0     3946945413106333696\n",
       "1     1696798367260229376\n",
       "2     1920113512486282240\n",
       "3     1385293808145621504\n",
       "4     2135550755683407232\n",
       "...                   ...\n",
       "5187  2452378776434276992\n",
       "5191   886479673643096448\n",
       "5192   348020448377061376\n",
       "5195  3794167001116433152\n",
       "5196  4298361114750843904\n",
       "\n",
       "[3703 rows x 1 columns]"
      ]
     },
     "execution_count": 8,
     "metadata": {},
     "output_type": "execute_result"
    }
   ],
   "source": [
    "gaia_id_number_dropna_unique"
   ]
  },
  {
   "cell_type": "code",
   "execution_count": 9,
   "id": "49f78c74-c28a-4006-ab4a-3febb244b1f9",
   "metadata": {},
   "outputs": [],
   "source": [
    "# Outputting as a CSV to read into Gaia archive\n",
    "gaia_id_number_dropna_unique.to_csv(\"PSCompPars_2022.11.04_06.46.09_gaia_id_number_dropna_unique.csv\", index=False)"
   ]
  },
  {
   "cell_type": "markdown",
   "id": "24d93ab8-b989-4afa-abda-16b85003b9f6",
   "metadata": {},
   "source": [
    "# Crossmatching DR2 and DR3 in Gaia Archive"
   ]
  },
  {
   "cell_type": "markdown",
   "id": "29b05cc4-3640-45e6-8b94-4de176b30380",
   "metadata": {},
   "source": [
    "Now we have created the CSV file containing the Gaia DR2 IDs we need to load this file into the Gaia archive and run an SQL query to match using the appropriate Gaia table. It is possible to do this interactively on the Gaia website. However, for the sake of repeatability we prefer to automate this using a script to query the archive."
   ]
  },
  {
   "cell_type": "markdown",
   "id": "40120adc-d45c-4da4-aaaa-34eb20f0317b",
   "metadata": {},
   "source": [
    "## Login to Gaia Archive"
   ]
  },
  {
   "cell_type": "code",
   "execution_count": 10,
   "id": "e21836de-fef1-4307-9982-f756480ec584",
   "metadata": {
    "tags": []
   },
   "outputs": [],
   "source": [
    "#### We can log onto the Gaia archive using the following formats:\n",
    "#### Gaia.login_gui() - will display window to provide a username and password\n",
    "#### Gaia.login() - a prompt will ask the user for name and password\n",
    "#### Gaia.login(user=[username], password=[password]) - just type the username and password in the given fields\n",
    "#### Gaia.login(credentials_file=[filename] - A path to the file that contains username and password. The username and password must be in different lines!"
   ]
  },
  {
   "cell_type": "code",
   "execution_count": 11,
   "id": "aacae472-92af-4cef-94dc-dd334ef8f2fc",
   "metadata": {},
   "outputs": [
    {
     "name": "stdout",
     "output_type": "stream",
     "text": [
      "INFO: Login to gaia TAP server [astroquery.gaia.core]\n"
     ]
    },
    {
     "name": "stdin",
     "output_type": "stream",
     "text": [
      "User:  slongmor\n",
      "Password:  ·········\n"
     ]
    },
    {
     "name": "stdout",
     "output_type": "stream",
     "text": [
      "OK\n",
      "INFO: Login to gaia data server [astroquery.gaia.core]\n",
      "OK\n"
     ]
    }
   ],
   "source": [
    "Gaia.login()"
   ]
  },
  {
   "cell_type": "markdown",
   "id": "b0c5d1f7-3124-4c59-8321-5b2e2442e9ad",
   "metadata": {},
   "source": [
    "## Creating input query variables"
   ]
  },
  {
   "cell_type": "code",
   "execution_count": 19,
   "id": "66261f6a-49bc-427a-a1b1-7351fc719486",
   "metadata": {},
   "outputs": [],
   "source": [
    "input_csv_filename = \"PSCompPars_2022.11.04_06.46.09_gaia_id_number_dropna_unique.csv\"\n",
    "input_table_name = \"gaia_NEA_dr2_IDs\"\n",
    "input_id_column_name = \"gaia_id_number\"\n",
    "\n",
    "username = \"slongmor\"\n",
    "gaia_dr2_dr3_crossmatch_table = \"gaiadr3.dr2_neighbourhood\"\n",
    "\n",
    "magnitude_difference = \"0.1\"\n",
    "\n",
    "crossmatch_output_filename = \"gaiadr3.dr2_neighbourhood_matchout.csv\""
   ]
  },
  {
   "cell_type": "markdown",
   "id": "72938444-cf92-4ee5-9d3f-d3a2ec1957f5",
   "metadata": {},
   "source": [
    "## Upload the Gaia DR2 IDs to the Gaia archive"
   ]
  },
  {
   "cell_type": "markdown",
   "id": "e766fd07-6edf-4f88-8e18-8145a51785ad",
   "metadata": {},
   "source": [
    "Now we need to upload the csv file we created above with Gaia DR2 ID's to the Gaia archive. Note: the Gaia archive will not let you upload a table with the same name twice. Each table you upload must have a unique name. Also, note that the name given to the table within the Gaia archive using the variable 'table_name' cannot have any unusual characters like \".\". If a table with that name already exists, you can remove the table using the \"delete_user_table\" function."
   ]
  },
  {
   "cell_type": "code",
   "execution_count": 20,
   "id": "bb5a02b8-e7ed-4aeb-a91e-400b2cc389fd",
   "metadata": {},
   "outputs": [
    {
     "name": "stdout",
     "output_type": "stream",
     "text": [
      "Table 'gaia_NEA_dr2_IDs' deleted.\n"
     ]
    }
   ],
   "source": [
    "Gaia.delete_user_table(input_table_name)"
   ]
  },
  {
   "cell_type": "code",
   "execution_count": 21,
   "id": "2104578c-1ad5-4124-b512-5e889bb4b904",
   "metadata": {},
   "outputs": [
    {
     "name": "stdout",
     "output_type": "stream",
     "text": [
      "Sending file: PSCompPars_2022.11.04_06.46.09_gaia_id_number_dropna_unique.csv\n",
      "Uploaded table 'gaia_NEA_dr2_IDs'.\n"
     ]
    }
   ],
   "source": [
    "# Upload the table assuming the table name is unique\n",
    "Gaia.upload_table(upload_resource=input_csv_filename, table_name=input_table_name, format=\"CSV\")"
   ]
  },
  {
   "cell_type": "markdown",
   "id": "adf852ec-a6fc-4f89-9d71-f6a3fedb5c03",
   "metadata": {},
   "source": [
    "## Submit crossmatch query"
   ]
  },
  {
   "cell_type": "code",
   "execution_count": 22,
   "id": "2f4a11f5-7cba-4ffb-bd28-18eda479443c",
   "metadata": {},
   "outputs": [],
   "source": [
    "# Creating the SQL query based on the variables above\n",
    "query = f\"\"\"\n",
    "SELECT dr2_names.*, both_names.*\n",
    "FROM user_{username}.{input_table_name} AS dr2_names\n",
    "JOIN {gaia_dr2_dr3_crossmatch_table} as both_names \n",
    "    ON both_names.dr2_source_id = dr2_names.{input_id_column_name}\n",
    "WHERE ABS(magnitude_difference) < {magnitude_difference}\n",
    "\"\"\""
   ]
  },
  {
   "cell_type": "code",
   "execution_count": 23,
   "id": "d00cff03-7da7-4509-a0c4-129a218ed02c",
   "metadata": {},
   "outputs": [],
   "source": [
    "#print(query)"
   ]
  },
  {
   "cell_type": "code",
   "execution_count": 25,
   "id": "87386596-13af-4f95-9e6e-3bfb6571f9a3",
   "metadata": {},
   "outputs": [
    {
     "name": "stdout",
     "output_type": "stream",
     "text": [
      "INFO: Query finished. [astroquery.utils.tap.core]\n"
     ]
    }
   ],
   "source": [
    "# Running the query and outputting the result to the specified file\n",
    "Gaia.launch_job_async(query).get_results().to_pandas().to_csv(f\"{crossmatch_output_filename}\", index=False)"
   ]
  },
  {
   "cell_type": "markdown",
   "id": "b2a2f5ee-7bdb-47cb-b0c4-f10970602d7b",
   "metadata": {},
   "source": [
    "# Inspect crossmatch output"
   ]
  },
  {
   "cell_type": "code",
   "execution_count": 31,
   "id": "0d622502-a443-4970-a35d-89d82a35a5cb",
   "metadata": {},
   "outputs": [],
   "source": [
    "# Reading in cross match\n",
    "crossmatch = pd.read_csv(crossmatch_output_filename)"
   ]
  },
  {
   "cell_type": "markdown",
   "id": "15a9e87f-804c-4988-91b8-67799227e1eb",
   "metadata": {},
   "source": [
    "## Comparing number of returned matches"
   ]
  },
  {
   "cell_type": "code",
   "execution_count": 32,
   "id": "81ef9b04-be45-4cf2-a310-6264c5132039",
   "metadata": {},
   "outputs": [
    {
     "data": {
      "text/html": [
       "<div>\n",
       "<style scoped>\n",
       "    .dataframe tbody tr th:only-of-type {\n",
       "        vertical-align: middle;\n",
       "    }\n",
       "\n",
       "    .dataframe tbody tr th {\n",
       "        vertical-align: top;\n",
       "    }\n",
       "\n",
       "    .dataframe thead th {\n",
       "        text-align: right;\n",
       "    }\n",
       "</style>\n",
       "<table border=\"1\" class=\"dataframe\">\n",
       "  <thead>\n",
       "    <tr style=\"text-align: right;\">\n",
       "      <th></th>\n",
       "      <th>gaia_nea_dr2_ids_oid</th>\n",
       "      <th>gaia_id_number</th>\n",
       "      <th>dr2_source_id</th>\n",
       "      <th>dr3_source_id</th>\n",
       "      <th>angular_distance</th>\n",
       "      <th>magnitude_difference</th>\n",
       "      <th>proper_motion_propagation</th>\n",
       "    </tr>\n",
       "  </thead>\n",
       "  <tbody>\n",
       "    <tr>\n",
       "      <th>0</th>\n",
       "      <td>1</td>\n",
       "      <td>3946945413106333696</td>\n",
       "      <td>3946945413106333696</td>\n",
       "      <td>3946945413106333696</td>\n",
       "      <td>0.171659</td>\n",
       "      <td>0.064815</td>\n",
       "      <td>True</td>\n",
       "    </tr>\n",
       "    <tr>\n",
       "      <th>1</th>\n",
       "      <td>2</td>\n",
       "      <td>1696798367260229376</td>\n",
       "      <td>1696798367260229376</td>\n",
       "      <td>1696798367260229376</td>\n",
       "      <td>0.272179</td>\n",
       "      <td>0.056798</td>\n",
       "      <td>True</td>\n",
       "    </tr>\n",
       "    <tr>\n",
       "      <th>2</th>\n",
       "      <td>3</td>\n",
       "      <td>1920113512486282240</td>\n",
       "      <td>1920113512486282240</td>\n",
       "      <td>1920113512486282240</td>\n",
       "      <td>0.190454</td>\n",
       "      <td>0.050376</td>\n",
       "      <td>True</td>\n",
       "    </tr>\n",
       "    <tr>\n",
       "      <th>3</th>\n",
       "      <td>4</td>\n",
       "      <td>1385293808145621504</td>\n",
       "      <td>1385293808145621504</td>\n",
       "      <td>1385293808145621504</td>\n",
       "      <td>0.085541</td>\n",
       "      <td>0.015930</td>\n",
       "      <td>True</td>\n",
       "    </tr>\n",
       "    <tr>\n",
       "      <th>4</th>\n",
       "      <td>5</td>\n",
       "      <td>2135550755683407232</td>\n",
       "      <td>2135550755683407232</td>\n",
       "      <td>2135550755683407232</td>\n",
       "      <td>0.208378</td>\n",
       "      <td>0.016607</td>\n",
       "      <td>True</td>\n",
       "    </tr>\n",
       "    <tr>\n",
       "      <th>...</th>\n",
       "      <td>...</td>\n",
       "      <td>...</td>\n",
       "      <td>...</td>\n",
       "      <td>...</td>\n",
       "      <td>...</td>\n",
       "      <td>...</td>\n",
       "      <td>...</td>\n",
       "    </tr>\n",
       "    <tr>\n",
       "      <th>3651</th>\n",
       "      <td>3698</td>\n",
       "      <td>1244571953471006720</td>\n",
       "      <td>1244571953471006720</td>\n",
       "      <td>1244571953471006720</td>\n",
       "      <td>0.497859</td>\n",
       "      <td>0.061234</td>\n",
       "      <td>True</td>\n",
       "    </tr>\n",
       "    <tr>\n",
       "      <th>3652</th>\n",
       "      <td>3700</td>\n",
       "      <td>886479673643096448</td>\n",
       "      <td>886479673643096448</td>\n",
       "      <td>886479673643853952</td>\n",
       "      <td>1.306490</td>\n",
       "      <td>0.066464</td>\n",
       "      <td>True</td>\n",
       "    </tr>\n",
       "    <tr>\n",
       "      <th>3653</th>\n",
       "      <td>3701</td>\n",
       "      <td>348020448377061376</td>\n",
       "      <td>348020448377061376</td>\n",
       "      <td>348020482735930112</td>\n",
       "      <td>0.904173</td>\n",
       "      <td>0.067670</td>\n",
       "      <td>True</td>\n",
       "    </tr>\n",
       "    <tr>\n",
       "      <th>3654</th>\n",
       "      <td>3702</td>\n",
       "      <td>3794167001116433152</td>\n",
       "      <td>3794167001116433152</td>\n",
       "      <td>3794167001116704000</td>\n",
       "      <td>0.252776</td>\n",
       "      <td>0.093633</td>\n",
       "      <td>True</td>\n",
       "    </tr>\n",
       "    <tr>\n",
       "      <th>3655</th>\n",
       "      <td>3703</td>\n",
       "      <td>4298361114750843904</td>\n",
       "      <td>4298361114750843904</td>\n",
       "      <td>4298361114753012992</td>\n",
       "      <td>0.690594</td>\n",
       "      <td>0.055562</td>\n",
       "      <td>True</td>\n",
       "    </tr>\n",
       "  </tbody>\n",
       "</table>\n",
       "<p>3656 rows × 7 columns</p>\n",
       "</div>"
      ],
      "text/plain": [
       "      gaia_nea_dr2_ids_oid       gaia_id_number        dr2_source_id  \\\n",
       "0                        1  3946945413106333696  3946945413106333696   \n",
       "1                        2  1696798367260229376  1696798367260229376   \n",
       "2                        3  1920113512486282240  1920113512486282240   \n",
       "3                        4  1385293808145621504  1385293808145621504   \n",
       "4                        5  2135550755683407232  2135550755683407232   \n",
       "...                    ...                  ...                  ...   \n",
       "3651                  3698  1244571953471006720  1244571953471006720   \n",
       "3652                  3700   886479673643096448   886479673643096448   \n",
       "3653                  3701   348020448377061376   348020448377061376   \n",
       "3654                  3702  3794167001116433152  3794167001116433152   \n",
       "3655                  3703  4298361114750843904  4298361114750843904   \n",
       "\n",
       "            dr3_source_id  angular_distance  magnitude_difference  \\\n",
       "0     3946945413106333696          0.171659              0.064815   \n",
       "1     1696798367260229376          0.272179              0.056798   \n",
       "2     1920113512486282240          0.190454              0.050376   \n",
       "3     1385293808145621504          0.085541              0.015930   \n",
       "4     2135550755683407232          0.208378              0.016607   \n",
       "...                   ...               ...                   ...   \n",
       "3651  1244571953471006720          0.497859              0.061234   \n",
       "3652   886479673643853952          1.306490              0.066464   \n",
       "3653   348020482735930112          0.904173              0.067670   \n",
       "3654  3794167001116704000          0.252776              0.093633   \n",
       "3655  4298361114753012992          0.690594              0.055562   \n",
       "\n",
       "      proper_motion_propagation  \n",
       "0                          True  \n",
       "1                          True  \n",
       "2                          True  \n",
       "3                          True  \n",
       "4                          True  \n",
       "...                         ...  \n",
       "3651                       True  \n",
       "3652                       True  \n",
       "3653                       True  \n",
       "3654                       True  \n",
       "3655                       True  \n",
       "\n",
       "[3656 rows x 7 columns]"
      ]
     },
     "execution_count": 32,
     "metadata": {},
     "output_type": "execute_result"
    }
   ],
   "source": [
    "crossmatch"
   ]
  },
  {
   "cell_type": "markdown",
   "id": "ec04d0d3-392f-41b4-9a39-9d3ae2f8410c",
   "metadata": {},
   "source": [
    "The crossmatch only returned 3656 sources out of the 3703 sources that were input."
   ]
  },
  {
   "cell_type": "code",
   "execution_count": 33,
   "id": "19b27554-fb38-4358-85f8-99a201d4880f",
   "metadata": {},
   "outputs": [
    {
     "data": {
      "text/plain": [
       "3656"
      ]
     },
     "execution_count": 33,
     "metadata": {},
     "output_type": "execute_result"
    }
   ],
   "source": [
    "crossmatch['dr2_source_id'].nunique()"
   ]
  },
  {
   "cell_type": "code",
   "execution_count": 34,
   "id": "5cca8d29-45ab-49bb-807a-e562e58a4386",
   "metadata": {},
   "outputs": [
    {
     "data": {
      "text/plain": [
       "3656"
      ]
     },
     "execution_count": 34,
     "metadata": {},
     "output_type": "execute_result"
    }
   ],
   "source": [
    "crossmatch['dr3_source_id'].nunique()"
   ]
  },
  {
   "cell_type": "markdown",
   "id": "838bf1b8-972c-49c3-b3d7-21cbd05d2f51",
   "metadata": {},
   "source": [
    "## Inspecting the magnitude difference distribution"
   ]
  },
  {
   "cell_type": "code",
   "execution_count": 28,
   "id": "dee68231-caa7-4a19-ab4b-3f2c441a491c",
   "metadata": {},
   "outputs": [
    {
     "data": {
      "text/plain": [
       "<AxesSubplot:>"
      ]
     },
     "execution_count": 28,
     "metadata": {},
     "output_type": "execute_result"
    },
    {
     "data": {
      "image/png": "[encoded data removed]",
      "text/plain": [
       "<Figure size 432x288 with 1 Axes>"
      ]
     },
     "metadata": {
      "needs_background": "light"
     },
     "output_type": "display_data"
    }
   ],
   "source": [
    "crossmatch['magnitude_difference'].hist()"
   ]
  },
  {
   "cell_type": "code",
   "execution_count": 29,
   "id": "0b7be203-7e17-447a-903a-000ba07ba95b",
   "metadata": {},
   "outputs": [
    {
     "data": {
      "text/plain": [
       "<AxesSubplot:>"
      ]
     },
     "execution_count": 29,
     "metadata": {},
     "output_type": "execute_result"
    },
    {
     "data": {
      "image/png": "[encoded data removed]",
      "text/plain": [
       "<Figure size 432x288 with 1 Axes>"
      ]
     },
     "metadata": {
      "needs_background": "light"
     },
     "output_type": "display_data"
    }
   ],
   "source": [
    "crossmatch['angular_distance'].hist()"
   ]
  }
 ],
 "metadata": {
  "kernelspec": {
   "display_name": "Python 3 (ipykernel)",
   "language": "python",
   "name": "python3"
  },
  "language_info": {
   "codemirror_mode": {
    "name": "ipython",
    "version": 3
   },
   "file_extension": ".py",
   "mimetype": "text/x-python",
   "name": "python",
   "nbconvert_exporter": "python",
   "pygments_lexer": "ipython3",
   "version": "3.9.6"
  },
  "toc-autonumbering": true
 },
 "nbformat": 4,
 "nbformat_minor": 5
}
