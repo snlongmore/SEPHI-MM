{
 "cells": [
  {
   "cell_type": "markdown",
   "id": "39d6b9c6-a58e-4c8e-a43c-8e5b30808d9d",
   "metadata": {},
   "source": [
    "# Crossmatching NASA Exoplanet Archive data with Gaia DR3 using Gaia DR2 IDs"
   ]
  },
  {
   "cell_type": "markdown",
   "id": "dc76003d-72bd-4fd2-b627-309c87d524aa",
   "metadata": {},
   "source": [
    "The Nasa Exoplanet Archive (NEA; https://exoplanetarchive.ipac.caltech.edu/) contains the most up to date information on exoplanet properties. We wish to crossmatch data in the NEA with the most recent data in the Gaia archive (https://gea.esac.esa.int/archive/), which as of 4/11/22 is DR3. The NEA contains Gaia IDs for the exoplanet host stars. However, as of 4/11/22, the NEA Gaia IDs are from Gaia DR2. Unfortunately, the Gaia IDs for the same stars are not neccessarily the same between different data releases. Therefore, we need to carefully crossmatch the Gaia DR2 IDs in the NEA with the correct Gaia DR3 stars.\n",
    "\n",
    "The https://gea.esac.esa.int/archive/documentation/GEDR3/Gaia_archive/chap_datamodel/sec_dm_auxiliary_tables/ssec_dm_dr2_neighbourhood.html"
   ]
  },
  {
   "cell_type": "markdown",
   "id": "f00311e3-53b6-4427-b573-88d6bf047ca3",
   "metadata": {},
   "source": [
    "# Setup "
   ]
  },
  {
   "cell_type": "markdown",
   "id": "a63e0d89-7cf3-434f-9130-2b07f8e94b6a",
   "metadata": {},
   "source": [
    "## Importing modules"
   ]
  },
  {
   "cell_type": "code",
   "execution_count": 1,
   "id": "df3fedc2-1dad-49a9-8ab2-fd1f38f9336c",
   "metadata": {},
   "outputs": [],
   "source": [
    "import pandas as pd\n",
    "import re\n",
    "from astroquery.gaia import Gaia"
   ]
  },
  {
   "cell_type": "markdown",
   "id": "8e1eeb92-fff1-4fa2-bbc4-5e658c3409cc",
   "metadata": {},
   "source": [
    "## Downloading and reading in NEA data"
   ]
  },
  {
   "cell_type": "markdown",
   "id": "74612a83-5102-49af-9476-55e635c31697",
   "metadata": {},
   "source": [
    "We use the most up to date data from the NEA compositve planetary data: https://exoplanetarchive.ipac.caltech.edu/cgi-bin/TblView/nph-tblView?app=ExoTbls&config=PSCompPars. We download all the columns from the most recent data from the NEA compositve planetary catalogue as a csv, which produces a file with a name like, PSCompPars_2022.10.29_03.02.41.csv, where the numbers correspond to the date and time the data were downloaded. Something in the header of the csv file meant pandas could not read the data properly, so the quick work around is to remove all the extraneous header info (all rows starting with #)."
   ]
  },
  {
   "cell_type": "code",
   "execution_count": 2,
   "id": "37e1c773-cdcd-4906-8572-c22511b745bb",
   "metadata": {},
   "outputs": [],
   "source": [
    "# Read in the data using pandas\n",
    "# exoplanets = pd.read_csv(\"PSCompPars_2022.10.29_03.02.41.csv\", skiprows=315, low_memory=False)  # skipping the first 315 rows which are header information\n",
    "# exoplanets = pd.read_csv(\"PSCompPars_2022.10.29_03.02.41.csv\", skiprows=315)  # skipping the first 315 rows which are header information\n",
    "# exoplanets = pd.read_csv(\"PSCompPars_2022.10.29_03.02.41.csv\", skiprows=315)  # skipping the first 315 rows which are header information\n",
    "# exoplanets = pd.read_csv(\"PSCompPars_2022.11.04_06.38.57.csv\", skiprows=94)\n",
    "# exoplanets = pd.read_csv(\"PSCompPars_2022.11.04_06.38.57_nohead.csv\")\n",
    "exoplanets = pd.read_csv(\"PSCompPars_2022.11.04_06.46.09.csv\")"
   ]
  },
  {
   "cell_type": "code",
   "execution_count": 3,
   "id": "a35d73ff-d032-4b33-a27c-e1ef7f123057",
   "metadata": {},
   "outputs": [],
   "source": [
    "# exoplanets"
   ]
  },
  {
   "cell_type": "code",
   "execution_count": 4,
   "id": "ce95f30b-c6e6-48df-a5b0-3c7fc8060b08",
   "metadata": {},
   "outputs": [],
   "source": [
    "gaia_id_number = pd.DataFrame(exoplanets['gaia_id'].str.split(expand=True)[2])"
   ]
  },
  {
   "cell_type": "code",
   "execution_count": 5,
   "id": "c2be6b14-abd0-4b77-8b19-0d9ee415d96a",
   "metadata": {},
   "outputs": [],
   "source": [
    "gaia_id_number.columns=['gaia_id_number']"
   ]
  },
  {
   "cell_type": "code",
   "execution_count": 6,
   "id": "80e392ce-3612-4048-8baa-363e0673d0e8",
   "metadata": {},
   "outputs": [
    {
     "data": {
      "text/html": [
       "<div>\n",
       "<style scoped>\n",
       "    .dataframe tbody tr th:only-of-type {\n",
       "        vertical-align: middle;\n",
       "    }\n",
       "\n",
       "    .dataframe tbody tr th {\n",
       "        vertical-align: top;\n",
       "    }\n",
       "\n",
       "    .dataframe thead th {\n",
       "        text-align: right;\n",
       "    }\n",
       "</style>\n",
       "<table border=\"1\" class=\"dataframe\">\n",
       "  <thead>\n",
       "    <tr style=\"text-align: right;\">\n",
       "      <th></th>\n",
       "      <th>gaia_id_number</th>\n",
       "    </tr>\n",
       "  </thead>\n",
       "  <tbody>\n",
       "    <tr>\n",
       "      <th>0</th>\n",
       "      <td>3946945413106333696</td>\n",
       "    </tr>\n",
       "    <tr>\n",
       "      <th>1</th>\n",
       "      <td>1696798367260229376</td>\n",
       "    </tr>\n",
       "    <tr>\n",
       "      <th>2</th>\n",
       "      <td>1920113512486282240</td>\n",
       "    </tr>\n",
       "    <tr>\n",
       "      <th>3</th>\n",
       "      <td>1385293808145621504</td>\n",
       "    </tr>\n",
       "    <tr>\n",
       "      <th>4</th>\n",
       "      <td>2135550755683407232</td>\n",
       "    </tr>\n",
       "    <tr>\n",
       "      <th>...</th>\n",
       "      <td>...</td>\n",
       "    </tr>\n",
       "    <tr>\n",
       "      <th>5192</th>\n",
       "      <td>348020448377061376</td>\n",
       "    </tr>\n",
       "    <tr>\n",
       "      <th>5193</th>\n",
       "      <td>348020448377061376</td>\n",
       "    </tr>\n",
       "    <tr>\n",
       "      <th>5194</th>\n",
       "      <td>348020448377061376</td>\n",
       "    </tr>\n",
       "    <tr>\n",
       "      <th>5195</th>\n",
       "      <td>3794167001116433152</td>\n",
       "    </tr>\n",
       "    <tr>\n",
       "      <th>5196</th>\n",
       "      <td>4298361114750843904</td>\n",
       "    </tr>\n",
       "  </tbody>\n",
       "</table>\n",
       "<p>5197 rows × 1 columns</p>\n",
       "</div>"
      ],
      "text/plain": [
       "           gaia_id_number\n",
       "0     3946945413106333696\n",
       "1     1696798367260229376\n",
       "2     1920113512486282240\n",
       "3     1385293808145621504\n",
       "4     2135550755683407232\n",
       "...                   ...\n",
       "5192   348020448377061376\n",
       "5193   348020448377061376\n",
       "5194   348020448377061376\n",
       "5195  3794167001116433152\n",
       "5196  4298361114750843904\n",
       "\n",
       "[5197 rows x 1 columns]"
      ]
     },
     "execution_count": 6,
     "metadata": {},
     "output_type": "execute_result"
    }
   ],
   "source": [
    "gaia_id_number"
   ]
  },
  {
   "cell_type": "code",
   "execution_count": 7,
   "id": "9a9c8600-37d6-4a21-90be-91c8d257b276",
   "metadata": {},
   "outputs": [],
   "source": [
    "#gaia_id_number.to_csv(\"PSCompPars_2022.11.04_06.46.09_gaia_id_drop_number_only.csv\", index=False)"
   ]
  },
  {
   "cell_type": "code",
   "execution_count": 8,
   "id": "18d7381f-3b85-4609-803d-9bfdb771a79e",
   "metadata": {},
   "outputs": [],
   "source": [
    "# Dropping rows with no Gaia ids as this will just complicate the analysis.\n",
    "gaia_id_number.dropna().to_csv(\"PSCompPars_2022.11.04_06.46.09_gaia_id_number.csv\", index=False)"
   ]
  },
  {
   "cell_type": "code",
   "execution_count": null,
   "id": "bfe95528-d8f3-4383-8eb9-a5dcf1e05615",
   "metadata": {},
   "outputs": [],
   "source": [
    "# exoplanets['gaia_id'].to_csv(\"gaia_full_name_test.csv\", index=False)"
   ]
  },
  {
   "cell_type": "code",
   "execution_count": 35,
   "id": "923fcf21-b8eb-49ee-9640-4dced501f12b",
   "metadata": {},
   "outputs": [
    {
     "data": {
      "text/plain": [
       "3703"
      ]
     },
     "execution_count": 35,
     "metadata": {},
     "output_type": "execute_result"
    }
   ],
   "source": [
    "gaia_id_number['gaia_id_number'].nunique()"
   ]
  },
  {
   "cell_type": "code",
   "execution_count": 36,
   "id": "c590877a-260b-4962-8c14-340cd9ce0828",
   "metadata": {},
   "outputs": [
    {
     "data": {
      "text/plain": [
       "0       3946945413106333696\n",
       "1       1696798367260229376\n",
       "2       1920113512486282240\n",
       "3       1385293808145621504\n",
       "4       2135550755683407232\n",
       "               ...         \n",
       "5192     348020448377061376\n",
       "5193     348020448377061376\n",
       "5194     348020448377061376\n",
       "5195    3794167001116433152\n",
       "5196    4298361114750843904\n",
       "Name: gaia_id_number, Length: 5197, dtype: object"
      ]
     },
     "execution_count": 36,
     "metadata": {},
     "output_type": "execute_result"
    }
   ],
   "source": [
    "gaia_id_number['gaia_id_number']"
   ]
  },
  {
   "cell_type": "markdown",
   "id": "40120adc-d45c-4da4-aaaa-34eb20f0317b",
   "metadata": {},
   "source": [
    "# Login to Gaia Archive"
   ]
  },
  {
   "cell_type": "code",
   "execution_count": null,
   "id": "e21836de-fef1-4307-9982-f756480ec584",
   "metadata": {
    "tags": []
   },
   "outputs": [],
   "source": [
    "#### We can log onto the Gaia archive using the following formats:\n",
    "#### Gaia.login_gui() - will display window to provide a username and password\n",
    "#### Gaia.login() - a prompt will ask the user for name and password\n",
    "#### Gaia.login(user=[username], password=[password]) - just type the username and password in the given fields\n",
    "#### Gaia.login(credentials_file=[filename] - A path to the file that contains username and password. The username and password must be in different lines!"
   ]
  },
  {
   "cell_type": "code",
   "execution_count": 9,
   "id": "aacae472-92af-4cef-94dc-dd334ef8f2fc",
   "metadata": {},
   "outputs": [
    {
     "name": "stdout",
     "output_type": "stream",
     "text": [
      "INFO: Login to gaia TAP server [astroquery.gaia.core]\n"
     ]
    },
    {
     "name": "stdin",
     "output_type": "stream",
     "text": [
      "User:  slongmor\n",
      "Password:  ·········\n"
     ]
    },
    {
     "name": "stdout",
     "output_type": "stream",
     "text": [
      "OK\n",
      "INFO: Login to gaia data server [astroquery.gaia.core]\n",
      "OK\n"
     ]
    }
   ],
   "source": [
    "Gaia.login()"
   ]
  },
  {
   "cell_type": "markdown",
   "id": "72938444-cf92-4ee5-9d3f-d3a2ec1957f5",
   "metadata": {},
   "source": [
    "# Upload the Gaia DR2 ids to the Gaia archive"
   ]
  },
  {
   "cell_type": "markdown",
   "id": "e766fd07-6edf-4f88-8e18-8145a51785ad",
   "metadata": {},
   "source": [
    "Now we need to upload the csv file we created above with Gaia DR2 ID's from the NASA Exoplanets Archive. This can be done on the Gaia archive website using the GUI. Cannot upload the same table twice unless we change the name as they are unique."
   ]
  },
  {
   "cell_type": "code",
   "execution_count": 11,
   "id": "2104578c-1ad5-4124-b512-5e889bb4b904",
   "metadata": {},
   "outputs": [
    {
     "name": "stdout",
     "output_type": "stream",
     "text": [
      "Sending file: PSCompPars_2022.11.04_06.46.09_gaia_id_number.csv\n",
      "Uploaded table 'gaia_NEA_dr2_IDs'.\n"
     ]
    }
   ],
   "source": [
    "# Gaia.upload_table(upload_resource=\"PSCompPars_2022.11.04_06.46.09_gaia_id_number_dropna.csv\", table_name=\"PSCompPars_2022.11.04_06.46.09_gaia_id_number_dropna.csv\", format=\"CSV\")\n",
    "# Gaia.upload_table(upload_resource=\"PSCompPars_2022.11.04_06.46.09_gaia_id_number.csv\", table_name=\"PSCompPars_2022.11.04_06.46.09_gaia_id_number.csv\", format=\"CSV\")\n",
    "Gaia.upload_table(upload_resource=\"PSCompPars_2022.11.04_06.46.09_gaia_id_number.csv\", table_name=\"gaia_NEA_dr2_IDs\", format=\"CSV\")"
   ]
  },
  {
   "cell_type": "markdown",
   "id": "adf852ec-a6fc-4f89-9d71-f6a3fedb5c03",
   "metadata": {},
   "source": [
    "# Submit crossmatch query"
   ]
  },
  {
   "cell_type": "markdown",
   "id": "0f96f8c3-14e5-4e5d-b35f-b91f7166a8e2",
   "metadata": {},
   "source": [
    "We need to provide a gaia table name to query as well as the username that will be used to load the uploaded table.\n",
    "Set a name for the file to which queried data will be saved."
   ]
  },
  {
   "cell_type": "code",
   "execution_count": 12,
   "id": "66261f6a-49bc-427a-a1b1-7351fc719486",
   "metadata": {},
   "outputs": [],
   "source": [
    "table = \"gaiadr3.dr2_neighbourhood\"\n",
    "username = \"slongmor\"\n",
    "filename = \"gaiadr3.dr2_neighbourhood.csv\"\n",
    "# mytable = \"PSCompPars_2022.11.04_06.46.09_gaia_id_number.csv\"\n",
    "mytable = \"gaia_NEA_dr2_IDs\""
   ]
  },
  {
   "cell_type": "code",
   "execution_count": 13,
   "id": "2f4a11f5-7cba-4ffb-bd28-18eda479443c",
   "metadata": {},
   "outputs": [],
   "source": [
    "query = f\"\"\"\n",
    "SELECT dr2_names.*, both_names.*\n",
    "FROM user_{username}.{mytable} AS dr2_names\n",
    "JOIN {table} as both_names \n",
    "    ON both_names.dr2_source_id = dr2_names.gaia_id_number\n",
    "WHERE ABS(magnitude_difference) < 0.1\n",
    "\"\"\""
   ]
  },
  {
   "cell_type": "code",
   "execution_count": 14,
   "id": "d00cff03-7da7-4509-a0c4-129a218ed02c",
   "metadata": {},
   "outputs": [],
   "source": [
    "#print(query)"
   ]
  },
  {
   "cell_type": "code",
   "execution_count": 15,
   "id": "87386596-13af-4f95-9e6e-3bfb6571f9a3",
   "metadata": {},
   "outputs": [
    {
     "name": "stdout",
     "output_type": "stream",
     "text": [
      "INFO: Query finished. [astroquery.utils.tap.core]\n"
     ]
    }
   ],
   "source": [
    "Gaia.launch_job_async(query).get_results().to_pandas().to_csv(f\"{filename}\", index=False)"
   ]
  },
  {
   "cell_type": "markdown",
   "id": "b2a2f5ee-7bdb-47cb-b0c4-f10970602d7b",
   "metadata": {},
   "source": [
    "# Inspect crossmatch output"
   ]
  },
  {
   "cell_type": "code",
   "execution_count": 16,
   "id": "0d622502-a443-4970-a35d-89d82a35a5cb",
   "metadata": {},
   "outputs": [],
   "source": [
    "crossmatch = pd.read_csv(filename)"
   ]
  },
  {
   "cell_type": "code",
   "execution_count": 17,
   "id": "81ef9b04-be45-4cf2-a310-6264c5132039",
   "metadata": {},
   "outputs": [
    {
     "data": {
      "text/html": [
       "<div>\n",
       "<style scoped>\n",
       "    .dataframe tbody tr th:only-of-type {\n",
       "        vertical-align: middle;\n",
       "    }\n",
       "\n",
       "    .dataframe tbody tr th {\n",
       "        vertical-align: top;\n",
       "    }\n",
       "\n",
       "    .dataframe thead th {\n",
       "        text-align: right;\n",
       "    }\n",
       "</style>\n",
       "<table border=\"1\" class=\"dataframe\">\n",
       "  <thead>\n",
       "    <tr style=\"text-align: right;\">\n",
       "      <th></th>\n",
       "      <th>gaia_nea_dr2_ids_oid</th>\n",
       "      <th>gaia_id_number</th>\n",
       "      <th>dr2_source_id</th>\n",
       "      <th>dr3_source_id</th>\n",
       "      <th>angular_distance</th>\n",
       "      <th>magnitude_difference</th>\n",
       "      <th>proper_motion_propagation</th>\n",
       "    </tr>\n",
       "  </thead>\n",
       "  <tbody>\n",
       "    <tr>\n",
       "      <th>0</th>\n",
       "      <td>1</td>\n",
       "      <td>3946945413106333696</td>\n",
       "      <td>3946945413106333696</td>\n",
       "      <td>3946945413106333696</td>\n",
       "      <td>0.171659</td>\n",
       "      <td>0.064815</td>\n",
       "      <td>True</td>\n",
       "    </tr>\n",
       "    <tr>\n",
       "      <th>1</th>\n",
       "      <td>2</td>\n",
       "      <td>1696798367260229376</td>\n",
       "      <td>1696798367260229376</td>\n",
       "      <td>1696798367260229376</td>\n",
       "      <td>0.272179</td>\n",
       "      <td>0.056798</td>\n",
       "      <td>True</td>\n",
       "    </tr>\n",
       "    <tr>\n",
       "      <th>2</th>\n",
       "      <td>3</td>\n",
       "      <td>1920113512486282240</td>\n",
       "      <td>1920113512486282240</td>\n",
       "      <td>1920113512486282240</td>\n",
       "      <td>0.190454</td>\n",
       "      <td>0.050376</td>\n",
       "      <td>True</td>\n",
       "    </tr>\n",
       "    <tr>\n",
       "      <th>3</th>\n",
       "      <td>4</td>\n",
       "      <td>1385293808145621504</td>\n",
       "      <td>1385293808145621504</td>\n",
       "      <td>1385293808145621504</td>\n",
       "      <td>0.085541</td>\n",
       "      <td>0.015930</td>\n",
       "      <td>True</td>\n",
       "    </tr>\n",
       "    <tr>\n",
       "      <th>4</th>\n",
       "      <td>5</td>\n",
       "      <td>2135550755683407232</td>\n",
       "      <td>2135550755683407232</td>\n",
       "      <td>2135550755683407232</td>\n",
       "      <td>0.208378</td>\n",
       "      <td>0.016607</td>\n",
       "      <td>True</td>\n",
       "    </tr>\n",
       "    <tr>\n",
       "      <th>...</th>\n",
       "      <td>...</td>\n",
       "      <td>...</td>\n",
       "      <td>...</td>\n",
       "      <td>...</td>\n",
       "      <td>...</td>\n",
       "      <td>...</td>\n",
       "      <td>...</td>\n",
       "    </tr>\n",
       "    <tr>\n",
       "      <th>4930</th>\n",
       "      <td>4991</td>\n",
       "      <td>348020448377061376</td>\n",
       "      <td>348020448377061376</td>\n",
       "      <td>348020482735930112</td>\n",
       "      <td>0.904173</td>\n",
       "      <td>0.067670</td>\n",
       "      <td>True</td>\n",
       "    </tr>\n",
       "    <tr>\n",
       "      <th>4931</th>\n",
       "      <td>4992</td>\n",
       "      <td>348020448377061376</td>\n",
       "      <td>348020448377061376</td>\n",
       "      <td>348020482735930112</td>\n",
       "      <td>0.904173</td>\n",
       "      <td>0.067670</td>\n",
       "      <td>True</td>\n",
       "    </tr>\n",
       "    <tr>\n",
       "      <th>4932</th>\n",
       "      <td>4993</td>\n",
       "      <td>348020448377061376</td>\n",
       "      <td>348020448377061376</td>\n",
       "      <td>348020482735930112</td>\n",
       "      <td>0.904173</td>\n",
       "      <td>0.067670</td>\n",
       "      <td>True</td>\n",
       "    </tr>\n",
       "    <tr>\n",
       "      <th>4933</th>\n",
       "      <td>4994</td>\n",
       "      <td>3794167001116433152</td>\n",
       "      <td>3794167001116433152</td>\n",
       "      <td>3794167001116704000</td>\n",
       "      <td>0.252776</td>\n",
       "      <td>0.093633</td>\n",
       "      <td>True</td>\n",
       "    </tr>\n",
       "    <tr>\n",
       "      <th>4934</th>\n",
       "      <td>4995</td>\n",
       "      <td>4298361114750843904</td>\n",
       "      <td>4298361114750843904</td>\n",
       "      <td>4298361114753012992</td>\n",
       "      <td>0.690594</td>\n",
       "      <td>0.055562</td>\n",
       "      <td>True</td>\n",
       "    </tr>\n",
       "  </tbody>\n",
       "</table>\n",
       "<p>4935 rows × 7 columns</p>\n",
       "</div>"
      ],
      "text/plain": [
       "      gaia_nea_dr2_ids_oid       gaia_id_number        dr2_source_id  \\\n",
       "0                        1  3946945413106333696  3946945413106333696   \n",
       "1                        2  1696798367260229376  1696798367260229376   \n",
       "2                        3  1920113512486282240  1920113512486282240   \n",
       "3                        4  1385293808145621504  1385293808145621504   \n",
       "4                        5  2135550755683407232  2135550755683407232   \n",
       "...                    ...                  ...                  ...   \n",
       "4930                  4991   348020448377061376   348020448377061376   \n",
       "4931                  4992   348020448377061376   348020448377061376   \n",
       "4932                  4993   348020448377061376   348020448377061376   \n",
       "4933                  4994  3794167001116433152  3794167001116433152   \n",
       "4934                  4995  4298361114750843904  4298361114750843904   \n",
       "\n",
       "            dr3_source_id  angular_distance  magnitude_difference  \\\n",
       "0     3946945413106333696          0.171659              0.064815   \n",
       "1     1696798367260229376          0.272179              0.056798   \n",
       "2     1920113512486282240          0.190454              0.050376   \n",
       "3     1385293808145621504          0.085541              0.015930   \n",
       "4     2135550755683407232          0.208378              0.016607   \n",
       "...                   ...               ...                   ...   \n",
       "4930   348020482735930112          0.904173              0.067670   \n",
       "4931   348020482735930112          0.904173              0.067670   \n",
       "4932   348020482735930112          0.904173              0.067670   \n",
       "4933  3794167001116704000          0.252776              0.093633   \n",
       "4934  4298361114753012992          0.690594              0.055562   \n",
       "\n",
       "      proper_motion_propagation  \n",
       "0                          True  \n",
       "1                          True  \n",
       "2                          True  \n",
       "3                          True  \n",
       "4                          True  \n",
       "...                         ...  \n",
       "4930                       True  \n",
       "4931                       True  \n",
       "4932                       True  \n",
       "4933                       True  \n",
       "4934                       True  \n",
       "\n",
       "[4935 rows x 7 columns]"
      ]
     },
     "execution_count": 17,
     "metadata": {},
     "output_type": "execute_result"
    }
   ],
   "source": [
    "crossmatch"
   ]
  },
  {
   "cell_type": "code",
   "execution_count": 20,
   "id": "dee68231-caa7-4a19-ab4b-3f2c441a491c",
   "metadata": {},
   "outputs": [
    {
     "data": {
      "text/plain": [
       "<AxesSubplot:>"
      ]
     },
     "execution_count": 20,
     "metadata": {},
     "output_type": "execute_result"
    },
    {
     "data": {
      "image/png": "[encoded data removed]",
      "text/plain": [
       "<Figure size 432x288 with 1 Axes>"
      ]
     },
     "metadata": {
      "needs_background": "light"
     },
     "output_type": "display_data"
    }
   ],
   "source": [
    "crossmatch['magnitude_difference'].hist()"
   ]
  },
  {
   "cell_type": "code",
   "execution_count": 21,
   "id": "0b7be203-7e17-447a-903a-000ba07ba95b",
   "metadata": {},
   "outputs": [
    {
     "data": {
      "text/plain": [
       "<AxesSubplot:>"
      ]
     },
     "execution_count": 21,
     "metadata": {},
     "output_type": "execute_result"
    },
    {
     "data": {
      "image/png": "[encoded data removed]",
      "text/plain": [
       "<Figure size 432x288 with 1 Axes>"
      ]
     },
     "metadata": {
      "needs_background": "light"
     },
     "output_type": "display_data"
    }
   ],
   "source": [
    "crossmatch['angular_distance'].hist()"
   ]
  },
  {
   "cell_type": "code",
   "execution_count": 31,
   "id": "bef76964-7234-46a2-a766-69d15ac0ec92",
   "metadata": {},
   "outputs": [],
   "source": [
    "crossmatch_unique = crossmatch[['gaia_id_number','dr2_source_id','dr3_source_id','angular_distance','magnitude_difference','proper_motion_propagation']].drop_duplicates()"
   ]
  },
  {
   "cell_type": "code",
   "execution_count": 32,
   "id": "c92f4f1f-8ce8-4342-9f4a-6e373e34f70c",
   "metadata": {},
   "outputs": [
    {
     "data": {
      "text/html": [
       "<div>\n",
       "<style scoped>\n",
       "    .dataframe tbody tr th:only-of-type {\n",
       "        vertical-align: middle;\n",
       "    }\n",
       "\n",
       "    .dataframe tbody tr th {\n",
       "        vertical-align: top;\n",
       "    }\n",
       "\n",
       "    .dataframe thead th {\n",
       "        text-align: right;\n",
       "    }\n",
       "</style>\n",
       "<table border=\"1\" class=\"dataframe\">\n",
       "  <thead>\n",
       "    <tr style=\"text-align: right;\">\n",
       "      <th></th>\n",
       "      <th>gaia_id_number</th>\n",
       "      <th>dr2_source_id</th>\n",
       "      <th>dr3_source_id</th>\n",
       "      <th>angular_distance</th>\n",
       "      <th>magnitude_difference</th>\n",
       "      <th>proper_motion_propagation</th>\n",
       "    </tr>\n",
       "  </thead>\n",
       "  <tbody>\n",
       "    <tr>\n",
       "      <th>0</th>\n",
       "      <td>3946945413106333696</td>\n",
       "      <td>3946945413106333696</td>\n",
       "      <td>3946945413106333696</td>\n",
       "      <td>0.171659</td>\n",
       "      <td>0.064815</td>\n",
       "      <td>True</td>\n",
       "    </tr>\n",
       "    <tr>\n",
       "      <th>1</th>\n",
       "      <td>1696798367260229376</td>\n",
       "      <td>1696798367260229376</td>\n",
       "      <td>1696798367260229376</td>\n",
       "      <td>0.272179</td>\n",
       "      <td>0.056798</td>\n",
       "      <td>True</td>\n",
       "    </tr>\n",
       "    <tr>\n",
       "      <th>2</th>\n",
       "      <td>1920113512486282240</td>\n",
       "      <td>1920113512486282240</td>\n",
       "      <td>1920113512486282240</td>\n",
       "      <td>0.190454</td>\n",
       "      <td>0.050376</td>\n",
       "      <td>True</td>\n",
       "    </tr>\n",
       "    <tr>\n",
       "      <th>3</th>\n",
       "      <td>1385293808145621504</td>\n",
       "      <td>1385293808145621504</td>\n",
       "      <td>1385293808145621504</td>\n",
       "      <td>0.085541</td>\n",
       "      <td>0.015930</td>\n",
       "      <td>True</td>\n",
       "    </tr>\n",
       "    <tr>\n",
       "      <th>4</th>\n",
       "      <td>2135550755683407232</td>\n",
       "      <td>2135550755683407232</td>\n",
       "      <td>2135550755683407232</td>\n",
       "      <td>0.208378</td>\n",
       "      <td>0.016607</td>\n",
       "      <td>True</td>\n",
       "    </tr>\n",
       "    <tr>\n",
       "      <th>...</th>\n",
       "      <td>...</td>\n",
       "      <td>...</td>\n",
       "      <td>...</td>\n",
       "      <td>...</td>\n",
       "      <td>...</td>\n",
       "      <td>...</td>\n",
       "    </tr>\n",
       "    <tr>\n",
       "      <th>4928</th>\n",
       "      <td>1244571953471006720</td>\n",
       "      <td>1244571953471006720</td>\n",
       "      <td>1244571953471006720</td>\n",
       "      <td>0.497859</td>\n",
       "      <td>0.061234</td>\n",
       "      <td>True</td>\n",
       "    </tr>\n",
       "    <tr>\n",
       "      <th>4929</th>\n",
       "      <td>886479673643096448</td>\n",
       "      <td>886479673643096448</td>\n",
       "      <td>886479673643853952</td>\n",
       "      <td>1.306490</td>\n",
       "      <td>0.066464</td>\n",
       "      <td>True</td>\n",
       "    </tr>\n",
       "    <tr>\n",
       "      <th>4930</th>\n",
       "      <td>348020448377061376</td>\n",
       "      <td>348020448377061376</td>\n",
       "      <td>348020482735930112</td>\n",
       "      <td>0.904173</td>\n",
       "      <td>0.067670</td>\n",
       "      <td>True</td>\n",
       "    </tr>\n",
       "    <tr>\n",
       "      <th>4933</th>\n",
       "      <td>3794167001116433152</td>\n",
       "      <td>3794167001116433152</td>\n",
       "      <td>3794167001116704000</td>\n",
       "      <td>0.252776</td>\n",
       "      <td>0.093633</td>\n",
       "      <td>True</td>\n",
       "    </tr>\n",
       "    <tr>\n",
       "      <th>4934</th>\n",
       "      <td>4298361114750843904</td>\n",
       "      <td>4298361114750843904</td>\n",
       "      <td>4298361114753012992</td>\n",
       "      <td>0.690594</td>\n",
       "      <td>0.055562</td>\n",
       "      <td>True</td>\n",
       "    </tr>\n",
       "  </tbody>\n",
       "</table>\n",
       "<p>3656 rows × 6 columns</p>\n",
       "</div>"
      ],
      "text/plain": [
       "           gaia_id_number        dr2_source_id        dr3_source_id  \\\n",
       "0     3946945413106333696  3946945413106333696  3946945413106333696   \n",
       "1     1696798367260229376  1696798367260229376  1696798367260229376   \n",
       "2     1920113512486282240  1920113512486282240  1920113512486282240   \n",
       "3     1385293808145621504  1385293808145621504  1385293808145621504   \n",
       "4     2135550755683407232  2135550755683407232  2135550755683407232   \n",
       "...                   ...                  ...                  ...   \n",
       "4928  1244571953471006720  1244571953471006720  1244571953471006720   \n",
       "4929   886479673643096448   886479673643096448   886479673643853952   \n",
       "4930   348020448377061376   348020448377061376   348020482735930112   \n",
       "4933  3794167001116433152  3794167001116433152  3794167001116704000   \n",
       "4934  4298361114750843904  4298361114750843904  4298361114753012992   \n",
       "\n",
       "      angular_distance  magnitude_difference  proper_motion_propagation  \n",
       "0             0.171659              0.064815                       True  \n",
       "1             0.272179              0.056798                       True  \n",
       "2             0.190454              0.050376                       True  \n",
       "3             0.085541              0.015930                       True  \n",
       "4             0.208378              0.016607                       True  \n",
       "...                ...                   ...                        ...  \n",
       "4928          0.497859              0.061234                       True  \n",
       "4929          1.306490              0.066464                       True  \n",
       "4930          0.904173              0.067670                       True  \n",
       "4933          0.252776              0.093633                       True  \n",
       "4934          0.690594              0.055562                       True  \n",
       "\n",
       "[3656 rows x 6 columns]"
      ]
     },
     "execution_count": 32,
     "metadata": {},
     "output_type": "execute_result"
    }
   ],
   "source": [
    "crossmatch_unique"
   ]
  },
  {
   "cell_type": "code",
   "execution_count": 37,
   "id": "0379a2d7-f49a-4bb4-86d8-137a66ea7ff5",
   "metadata": {},
   "outputs": [
    {
     "data": {
      "text/plain": [
       "3656"
      ]
     },
     "execution_count": 37,
     "metadata": {},
     "output_type": "execute_result"
    }
   ],
   "source": [
    "crossmatch_unique['dr2_source_id'].nunique()"
   ]
  },
  {
   "cell_type": "code",
   "execution_count": null,
   "id": "d1ac48aa-9d5d-46ee-af2d-e125c1958c7d",
   "metadata": {},
   "outputs": [],
   "source": []
  }
 ],
 "metadata": {
  "kernelspec": {
   "display_name": "Python 3 (ipykernel)",
   "language": "python",
   "name": "python3"
  },
  "language_info": {
   "codemirror_mode": {
    "name": "ipython",
    "version": 3
   },
   "file_extension": ".py",
   "mimetype": "text/x-python",
   "name": "python",
   "nbconvert_exporter": "python",
   "pygments_lexer": "ipython3",
   "version": "3.9.6"
  },
  "toc-autonumbering": true
 },
 "nbformat": 4,
 "nbformat_minor": 5
}
